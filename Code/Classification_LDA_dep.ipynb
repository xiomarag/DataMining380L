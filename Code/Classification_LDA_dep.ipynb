{
 "cells": [
  {
   "cell_type": "code",
   "execution_count": 1,
   "metadata": {},
   "outputs": [],
   "source": [
    "import numpy as np\n",
    "import pandas as pd\n",
    "from numpy import array\n",
    "import matplotlib.pyplot as plt\n",
    "from sklearn.tree import DecisionTreeClassifier # Import Decision Tree Classifier\n",
    "from sklearn.model_selection import train_test_split # Import train_test_split function\n",
    "from sklearn import metrics #Import scikit-learn metrics module for accuracy calculation\n",
    "from sklearn.feature_selection import SelectKBest,f_classif,chi2,f_regression\n",
    "from sklearn.discriminant_analysis import LinearDiscriminantAnalysis\n"
   ]
  },
  {
   "cell_type": "code",
   "execution_count": 2,
   "metadata": {},
   "outputs": [],
   "source": [
    "class DataPreprocess:\n",
    "    def __init__(self, filename):\n",
    "        self.filename = filename\n",
    "        \n",
    "    def read_in_data(self):\n",
    "        return pd.read_csv(self.filename)\n",
    "\n",
    "    def select_feature_manually(self):\n",
    "        self.df = self.read_in_data()\n",
    "        self.df_feature = self.df[[\"AIRLINE_ID\", \"ORIGIN_AIRPORT_ID\", \"DEST_AIRPORT_ID\",\"LATITUDE\", \"LONGITUDE\", \"MONTH\",\"DAY_OF_MONTH\", \"PLANE_AGE\", \"AWND\", \"PRCP\", \"SNOW\", \"TMAX\", \"TAVG\",\n",
    "             \"CRS_DEP_TIME\", \"CRS_ARR_TIME\", \"DISTANCE\"]]\n",
    "\n",
    "    def convert_time(self, time):\n",
    "        hour = np.floor(time/100)\n",
    "        minutes = hour*60 + time - hour*100\n",
    "        return minutes\n",
    "\n",
    "    def make_dataset(self):\n",
    "        airline_oh = pd.get_dummies(self.df_feature['AIRLINE_ID'])\n",
    "        name = 'AIRLINE_ID'\n",
    "        airline_oh_columns = []\n",
    "        for i in range(airline_oh.shape[1]):\n",
    "            airline_oh_columns.append(name+\" \"+str(i))\n",
    "        \n",
    "        airline = pd.DataFrame(airline_oh.to_numpy(),columns=airline_oh_columns)\n",
    "        self.df_feature = self.df_feature.join(airline)\n",
    "            \n",
    "        arr_airport_oh = pd.get_dummies(self.df_feature['DEST_AIRPORT_ID'])\n",
    "        name = 'DEST_AIRPORT_ID'\n",
    "        arr_airport_oh_columns = []\n",
    "        for i in range(arr_airport_oh.shape[1]):\n",
    "            arr_airport_oh_columns.append(name+\" \"+str(i))\n",
    "            \n",
    "        arr_airport = pd.DataFrame(arr_airport_oh.to_numpy(),columns=arr_airport_oh_columns)\n",
    "        self.df_feature = self.df_feature.join(arr_airport)\n",
    "            \n",
    "        dep_airport_oh = pd.get_dummies(self.df_feature['ORIGIN_AIRPORT_ID'])\n",
    "        name = 'ORIGIN_AIRPORT_ID'\n",
    "        dep_airport_oh_columns = []\n",
    "        for i in range(dep_airport_oh.shape[1]):\n",
    "            dep_airport_oh_columns.append(name+\" \"+str(i))\n",
    "            \n",
    "        dep_airport = pd.DataFrame(dep_airport_oh.to_numpy(),columns=dep_airport_oh_columns)\n",
    "        self.df_feature = self.df_feature.join(dep_airport)\n",
    "\n",
    "#         airline_oh = airline_oh_df.to_numpy()\n",
    "#         arr_airport_oh = arr_airport_oh_df.to_numpy()\n",
    "#         dep_airport_oh = dep_airport_oh_df.to_numpy()\n",
    "\n",
    "        self.df_feature = self.df_feature.drop(['AIRLINE_ID', 'DEST_AIRPORT_ID', 'ORIGIN_AIRPORT_ID'], axis=1)\n",
    "\n",
    "        self.df_feature = self.df_feature.fillna(0)\n",
    "\n",
    "        arr_time = self.df_feature[\"CRS_ARR_TIME\"].to_numpy().reshape(-1, 1)\n",
    "        dep_time = self.df_feature[\"CRS_DEP_TIME\"].to_numpy().reshape(-1, 1)\n",
    "        arr_time_min = self.convert_time(arr_time)\n",
    "        dep_time_min = self.convert_time(dep_time)\n",
    "        time_min_df = pd.DataFrame(np.hstack([arr_time_min, dep_time_min]), columns=['CRS_ARR_TIME_MIN', 'CRS_DEP_TIME_MIN'])\n",
    "\n",
    "        self.df_feature = self.df_feature.drop([\"CRS_ARR_TIME\", \"CRS_DEP_TIME\"], axis=1)\n",
    "        self.df_feature = self.df_feature.join(time_min_df)\n",
    "\n",
    "        features_without_id = self.df_feature.to_numpy()\n",
    "        self.features = features_without_id # array\n",
    "        self.df_truth = self.df[[\"CANCELLED\", \"DEP_DELAY_NEW\", \"ARR_DELAY_NEW\"]]\n",
    "    \n",
    "    \n",
    "    def generate(self):\n",
    "\n",
    "        self.select_feature_manually()\n",
    "        self.make_dataset()\n",
    "    \n",
    "\n",
    "        y = np.zeros((self.df_truth.shape[0],2))\n",
    "\n",
    "        for i in range(6):\n",
    "            if i==0:\n",
    "                y[self.df_truth[\"DEP_DELAY_NEW\"]==0, 0] = 0\n",
    "                y[self.df_truth[\"ARR_DELAY_NEW\"]==0, 1] = 0\n",
    "            elif i==5:\n",
    "                ub = (i-1)*15\n",
    "                y[self.df_truth[\"DEP_DELAY_NEW\"]>ub, 0] = ub\n",
    "                y[self.df_truth[\"ARR_DELAY_NEW\"]>ub, 1] = ub\n",
    "            else: \n",
    "                lb = (i-1)*15\n",
    "                ub = i*15\n",
    "                y[np.logical_and(self.df_truth[\"DEP_DELAY_NEW\"]>lb, self.df_truth[\"DEP_DELAY_NEW\"]<=ub), 0] = lb\n",
    "                y[np.logical_and(self.df_truth[\"ARR_DELAY_NEW\"]>lb, self.df_truth[\"ARR_DELAY_NEW\"]<=ub), 1] = lb       \n",
    "\n",
    "        y = pd.DataFrame(y, columns=['dep','arr'])        \n",
    "        \n",
    "        return self.df_feature, self.features, self.df_truth, y"
   ]
  },
  {
   "cell_type": "code",
   "execution_count": 3,
   "metadata": {},
   "outputs": [],
   "source": [
    "def plot_confusion_matrix(cm, classes,\n",
    "                          normalize=False,\n",
    "                          title='Confusion matrix',\n",
    "                          cmap=plt.cm.Blues):\n",
    "    \"\"\"\n",
    "    This function prints and plots the confusion matrix.\n",
    "    Normalization can be applied by setting `normalize=True`.\n",
    "    \"\"\"\n",
    "    import itertools\n",
    "    if normalize:\n",
    "        cm = cm.astype('float') / cm.sum(axis=1)[:, np.newaxis]\n",
    "        print(\"Normalized confusion matrix\")\n",
    "    else:\n",
    "        print('Confusion matrix, without normalization')\n",
    "\n",
    "    print(cm)\n",
    "\n",
    "    plt.imshow(cm, interpolation='nearest', cmap=cmap)\n",
    "    plt.title(title)\n",
    "    plt.colorbar()\n",
    "    tick_marks = np.arange(len(classes))\n",
    "    plt.xticks(tick_marks, classes, rotation=45)\n",
    "    plt.yticks(tick_marks, classes)\n",
    "\n",
    "    fmt = '.2f' if normalize else 'd'\n",
    "    thresh = cm.max() / 2.\n",
    "    for i, j in itertools.product(range(cm.shape[0]), range(cm.shape[1])):\n",
    "        plt.text(j, i, format(cm[i, j], fmt),\n",
    "                 horizontalalignment=\"center\",\n",
    "                 color=\"white\" if cm[i, j] > thresh else \"black\")\n",
    "\n",
    "    plt.ylabel('True label')\n",
    "    plt.xlabel('Predicted label')\n",
    "    plt.tight_layout()"
   ]
  },
  {
   "cell_type": "code",
   "execution_count": 4,
   "metadata": {},
   "outputs": [],
   "source": [
    "filename = \"./Data/train_2019.csv\"\n",
    "data = DataPreprocess(filename)\n",
    "X, _, y_truth, y = data.generate()"
   ]
  },
  {
   "cell_type": "code",
   "execution_count": 5,
   "metadata": {},
   "outputs": [],
   "source": [
    "X_train_org, X_test_org, y_train_org, y_test_org = train_test_split(X, y, test_size=0.3, random_state=1) # 70% training and 30% test"
   ]
  },
  {
   "cell_type": "markdown",
   "metadata": {},
   "source": [
    "# dep/arr"
   ]
  },
  {
   "cell_type": "code",
   "execution_count": 6,
   "metadata": {},
   "outputs": [],
   "source": [
    "lda = LinearDiscriminantAnalysis()\n",
    "X_train = lda.fit(X_train_org, y_train_org[\"dep\"]).transform(X_train_org)\n",
    "X_test = lda.transform(X_test_org)\n",
    "y_train = y_train_org[\"dep\"]\n",
    "y_test = y_test_org[\"dep\"]"
   ]
  },
  {
   "cell_type": "markdown",
   "metadata": {},
   "source": [
    "## Adaboost\n",
    "https://www.datacamp.com/community/tutorials/adaboost-classifier-python <br>\n",
    "https://scikit-learn.org/stable/auto_examples/ensemble/plot_adaboost_hastie_10_2.html#sphx-glr-auto-examples-ensemble-plot-adaboost-hastie-10-2-py"
   ]
  },
  {
   "cell_type": "code",
   "execution_count": 7,
   "metadata": {},
   "outputs": [],
   "source": [
    "# Load libraries\n",
    "from sklearn.ensemble import AdaBoostClassifier"
   ]
  },
  {
   "cell_type": "markdown",
   "metadata": {},
   "source": [
    "### Base learner: Decision Tree"
   ]
  },
  {
   "cell_type": "markdown",
   "metadata": {},
   "source": [
    "#### 1. Departure"
   ]
  },
  {
   "cell_type": "code",
   "execution_count": 8,
   "metadata": {},
   "outputs": [
    {
     "name": "stdout",
     "output_type": "stream",
     "text": [
      "Accuracy: 0.795962557798579\n"
     ]
    }
   ],
   "source": [
    "# Create adaboost classifer object\n",
    "abc = AdaBoostClassifier(n_estimators=50,\n",
    "                         learning_rate=1)\n",
    "# Train Adaboost Classifer\n",
    "model = abc.fit(X_train, y_train)\n",
    "\n",
    "#Predict the response for test dataset\n",
    "y_pred = model.predict(X_test)\n",
    "\n",
    "# Model Accuracy, how often is the classifier correct?\n",
    "print(\"Accuracy:\",metrics.accuracy_score(y_test, y_pred))"
   ]
  },
  {
   "cell_type": "code",
   "execution_count": 9,
   "metadata": {},
   "outputs": [
    {
     "name": "stdout",
     "output_type": "stream",
     "text": [
      "Confusion matrix, without normalization\n",
      "[[528975      0      0      0    332]\n",
      " [ 44944      0      0      0    102]\n",
      " [ 24660      0      0      0     81]\n",
      " [ 15963      0      0      0     72]\n",
      " [ 49536      0      0      0    360]]\n"
     ]
    },
    {
     "data": {
      "image/png": "[encoded data removed]",
      "text/plain": [
       "<Figure size 432x288 with 2 Axes>"
      ]
     },
     "metadata": {
      "needs_background": "light"
     },
     "output_type": "display_data"
    }
   ],
   "source": [
    "from sklearn.metrics import confusion_matrix\n",
    "\n",
    "cnf_matrix = confusion_matrix(y_test, y_pred, labels=[0, 15, 30, 45, 60])\n",
    "np.set_printoptions(precision=2)\n",
    "\n",
    "# Plot non-normalized confusion matrix\n",
    "plt.figure()\n",
    "plot_confusion_matrix(cnf_matrix, classes=[0, 15, 30, 45, 60],\n",
    "                      title='Confusion matrix (Departure)')"
   ]
  },
  {
   "cell_type": "code",
   "execution_count": 17,
   "metadata": {},
   "outputs": [
    {
     "data": {
      "image/png": "[encoded data removed]",
      "text/plain": [
       "<Figure size 432x288 with 1 Axes>"
      ]
     },
     "metadata": {
      "needs_background": "light"
     },
     "output_type": "display_data"
    }
   ],
   "source": [
    "import numpy as np\n",
    "import matplotlib.pyplot as plt\n",
    "\n",
    "from sklearn import datasets\n",
    "from sklearn.tree import DecisionTreeClassifier\n",
    "from sklearn.metrics import zero_one_loss\n",
    "from sklearn.ensemble import AdaBoostClassifier\n",
    "\n",
    "\n",
    "n_estimators = 400\n",
    "learning_rate = 0.5\n",
    "\n",
    "dt_stump = DecisionTreeClassifier(max_depth=1, min_samples_leaf=1)\n",
    "dt_stump.fit(X_train, y_train)\n",
    "dt_stump_err = 1.0 - dt_stump.score(X_test, y_test)\n",
    "\n",
    "dt = DecisionTreeClassifier(max_depth=9, min_samples_leaf=1)\n",
    "dt.fit(X_train, y_train)\n",
    "dt_err = 1.0 - dt.score(X_test, y_test)\n",
    "\n",
    "\n",
    "ada_real = AdaBoostClassifier(\n",
    "    base_estimator=dt_stump,\n",
    "    learning_rate=learning_rate,\n",
    "    n_estimators=n_estimators,\n",
    "    algorithm=\"SAMME.R\",\n",
    ")\n",
    "ada_real.fit(X_train, y_train)\n",
    "\n",
    "fig = plt.figure()\n",
    "ax = fig.add_subplot(111)\n",
    "\n",
    "ax.plot([1, n_estimators], [dt_stump_err] * 2, \"k-\", label=\"Decision Stump Error\")\n",
    "ax.plot([1, n_estimators], [dt_err] * 2, \"k--\", label=\"Decision Tree Error\")\n",
    "\n",
    "ada_real_err = np.zeros((n_estimators,))\n",
    "for i, y_pred in enumerate(ada_real.staged_predict(X_test)):\n",
    "    ada_real_err[i] = zero_one_loss(y_pred, y_test)\n",
    "\n",
    "ada_real_err_train = np.zeros((n_estimators,))\n",
    "for i, y_pred in enumerate(ada_real.staged_predict(X_train)):\n",
    "    ada_real_err_train[i] = zero_one_loss(y_pred, y_train)\n",
    "\n",
    "\n",
    "ax.plot(\n",
    "    np.arange(n_estimators) + 1,\n",
    "    ada_real_err,\n",
    "    label=\"AdaBoost Test Error\",\n",
    "    color=\"orange\",\n",
    ")\n",
    "ax.plot(\n",
    "    np.arange(n_estimators) + 1,\n",
    "    ada_real_err_train,\n",
    "    label=\"AdaBoost Train Error\",\n",
    "    color=\"green\",\n",
    ")\n",
    "\n",
    "ax.set_ylim((0.0, 0.5))\n",
    "ax.set_xlabel(\"n_estimators\")\n",
    "ax.set_ylabel(\"error rate\")\n",
    "\n",
    "leg = ax.legend(loc=\"upper right\", fancybox=True)\n",
    "leg.get_frame().set_alpha(0.7)\n",
    "\n",
    "plt.title(\"Departure\")\n",
    "plt.show()"
   ]
  },
  {
   "cell_type": "markdown",
   "metadata": {},
   "source": [
    "## KNN\n",
    "https://machinelearningknowledge.ai/knn-classifier-in-sklearn-using-gridsearchcv-with-example/"
   ]
  },
  {
   "cell_type": "code",
   "execution_count": 10,
   "metadata": {},
   "outputs": [],
   "source": [
    "from sklearn.metrics import accuracy_score"
   ]
  },
  {
   "cell_type": "code",
   "execution_count": 11,
   "metadata": {},
   "outputs": [
    {
     "name": "stdout",
     "output_type": "stream",
     "text": [
      "Fitting 10 folds for each of 15 candidates, totalling 150 fits\n"
     ]
    },
    {
     "name": "stderr",
     "output_type": "stream",
     "text": [
      "[Parallel(n_jobs=1)]: Using backend SequentialBackend with 1 concurrent workers.\n",
      "[Parallel(n_jobs=1)]: Done 150 out of 150 | elapsed: 23.5min finished\n"
     ]
    },
    {
     "name": "stdout",
     "output_type": "stream",
     "text": [
      "Accuracy for our training dataset with tuning is : 79.62%\n"
     ]
    }
   ],
   "source": [
    "from sklearn.model_selection import GridSearchCV\n",
    "from sklearn.neighbors import KNeighborsClassifier\n",
    "\n",
    "knn = KNeighborsClassifier()\n",
    "\n",
    "k_range = list(range(1, 16))\n",
    "param_grid = dict(n_neighbors=k_range)\n",
    "  \n",
    "# defining parameter range\n",
    "grid = GridSearchCV(knn, param_grid, cv=10, scoring='accuracy', return_train_score=False,verbose=1)\n",
    "  \n",
    "# fitting the model for grid search\n",
    "grid_search = grid.fit(X_train, y_train)\n",
    "accuracy = grid_search.best_score_ *100\n",
    "print(\"Accuracy for our training dataset with tuning is : {:.2f}%\".format(accuracy) )\n",
    "\n",
    "y_pred = grid.predict(X_test)\n"
   ]
  },
  {
   "cell_type": "code",
   "execution_count": 12,
   "metadata": {},
   "outputs": [
    {
     "name": "stdout",
     "output_type": "stream",
     "text": [
      "Accuracy for our testing dataset with tuning is : 79.49%\n"
     ]
    }
   ],
   "source": [
    "test_accuracy = accuracy_score(y_test,y_pred)*100\n",
    "print(\"Accuracy for our testing dataset with tuning is : {:.2f}%\".format(test_accuracy) )"
   ]
  },
  {
   "cell_type": "code",
   "execution_count": 13,
   "metadata": {},
   "outputs": [
    {
     "data": {
      "text/plain": [
       "{'n_neighbors': 15}"
      ]
     },
     "execution_count": 13,
     "metadata": {},
     "output_type": "execute_result"
    }
   ],
   "source": [
    "grid_search.best_params_"
   ]
  },
  {
   "cell_type": "code",
   "execution_count": 14,
   "metadata": {},
   "outputs": [
    {
     "name": "stdout",
     "output_type": "stream",
     "text": [
      "Confusion matrix, without normalization\n",
      "[[526449    335     92     40   2391]\n",
      " [ 44332    117     17      7    573]\n",
      " [ 24222     62     15      8    434]\n",
      " [ 15609     45     14      5    362]\n",
      " [ 47650    136     35     21   2054]]\n"
     ]
    },
    {
     "data": {
      "image/png": "[encoded data removed]",
      "text/plain": [
       "<Figure size 432x288 with 2 Axes>"
      ]
     },
     "metadata": {
      "needs_background": "light"
     },
     "output_type": "display_data"
    }
   ],
   "source": [
    "from sklearn.metrics import confusion_matrix\n",
    "\n",
    "cnf_matrix = confusion_matrix(y_test, y_pred, labels=[0, 15, 30, 45, 60])\n",
    "np.set_printoptions(precision=2)\n",
    "\n",
    "# Plot non-normalized confusion matrix\n",
    "plt.figure()\n",
    "plot_confusion_matrix(cnf_matrix, classes=[0, 15, 30, 45, 60],\n",
    "                      title='Confusion matrix (Departure)')"
   ]
  },
  {
   "cell_type": "markdown",
   "metadata": {},
   "source": [
    "## Random Forest\n",
    "https://towardsdatascience.com/random-forest-in-python-24d0893d51c0 <br>\n",
    "https://machinelearningmastery.com/random-forest-ensemble-in-python/"
   ]
  },
  {
   "cell_type": "markdown",
   "metadata": {},
   "source": [
    "#### 1. Classification - dep"
   ]
  },
  {
   "cell_type": "code",
   "execution_count": 15,
   "metadata": {},
   "outputs": [
    {
     "name": "stdout",
     "output_type": "stream",
     "text": [
      "Error Rate: 0.18217961730762\n",
      "Accuracy for our training dataset with tuning is : 99.19%\n",
      "Accuracy for our testing dataset with tuning is : 81.78%\n"
     ]
    }
   ],
   "source": [
    "from sklearn.ensemble import RandomForestClassifier\n",
    "rf_dep = RandomForestClassifier(n_estimators=20)\n",
    "rf_dep.fit(X_train, y_train)\n",
    "# make a single prediction\n",
    "y_pred = rf_dep.predict(X_test)\n",
    "# Calculate the absolute errors\n",
    "error_rate = len(y_pred[y_pred!=y_test])/len(y_pred)\n",
    "print(\"Error Rate:\", error_rate)\n",
    "\n",
    "train_accuracy = accuracy_score(y_train,rf_dep.predict(X_train))*100\n",
    "print(\"Accuracy for our training dataset with tuning is : {:.2f}%\".format(train_accuracy) )\n",
    "\n",
    "test_accuracy = accuracy_score(y_test,y_pred)*100\n",
    "print(\"Accuracy for our testing dataset with tuning is : {:.2f}%\".format(test_accuracy) )"
   ]
  },
  {
   "cell_type": "code",
   "execution_count": 16,
   "metadata": {},
   "outputs": [
    {
     "name": "stdout",
     "output_type": "stream",
     "text": [
      "Confusion matrix, without normalization\n",
      "[[524418   1178    379    172   3160]\n",
      " [ 38612   5631    100     33    670]\n",
      " [ 20943    154   3142     33    469]\n",
      " [ 13426    117     34   2048    410]\n",
      " [ 40769    293    125     77   8632]]\n"
     ]
    },
    {
     "data": {
      "image/png": "[encoded data removed]",
      "text/plain": [
       "<Figure size 432x288 with 2 Axes>"
      ]
     },
     "metadata": {
      "needs_background": "light"
     },
     "output_type": "display_data"
    }
   ],
   "source": [
    "cnf_matrix = confusion_matrix(y_test, y_pred, labels=[0, 15, 30, 45, 60])\n",
    "np.set_printoptions(precision=2)\n",
    "\n",
    "# Plot non-normalized confusion matrix\n",
    "plt.figure()\n",
    "plot_confusion_matrix(cnf_matrix, classes=[0, 15, 30, 45, 60],\n",
    "                      title='Confusion matrix (Departure)')"
   ]
  },
  {
   "cell_type": "markdown",
   "metadata": {},
   "source": [
    "## Random Forest (# of estimators: 50)\n",
    "https://towardsdatascience.com/random-forest-in-python-24d0893d51c0 <br>\n",
    "https://machinelearningmastery.com/random-forest-ensemble-in-python/"
   ]
  },
  {
   "cell_type": "markdown",
   "metadata": {},
   "source": [
    "#### 1. Classification - dep"
   ]
  },
  {
   "cell_type": "code",
   "execution_count": 18,
   "metadata": {},
   "outputs": [
    {
     "name": "stdout",
     "output_type": "stream",
     "text": [
      "Error Rate: 0.17918273749107178\n",
      "Accuracy for our training dataset with tuning is : 99.92%\n",
      "Accuracy for our testing dataset with tuning is : 82.08%\n"
     ]
    }
   ],
   "source": [
    "from sklearn.ensemble import RandomForestClassifier\n",
    "rf_dep = RandomForestClassifier(n_estimators=50)\n",
    "rf_dep.fit(X_train, y_train)\n",
    "# make a single prediction\n",
    "y_pred = rf_dep.predict(X_test)\n",
    "# Calculate the absolute errors\n",
    "error_rate = len(y_pred[y_pred!=y_test])/len(y_pred)\n",
    "print(\"Error Rate:\", error_rate)\n",
    "\n",
    "train_accuracy = accuracy_score(y_train,rf_dep.predict(X_train))*100\n",
    "print(\"Accuracy for our training dataset with tuning is : {:.2f}%\".format(train_accuracy) )\n",
    "\n",
    "test_accuracy = accuracy_score(y_test,y_pred)*100\n",
    "print(\"Accuracy for our testing dataset with tuning is : {:.2f}%\".format(test_accuracy) )"
   ]
  },
  {
   "cell_type": "code",
   "execution_count": 19,
   "metadata": {},
   "outputs": [
    {
     "name": "stdout",
     "output_type": "stream",
     "text": [
      "Confusion matrix, without normalization\n",
      "[[525999    623    206     88   2391]\n",
      " [ 38713   5744     58     10    521]\n",
      " [ 21016     74   3250     18    383]\n",
      " [ 13499     58     23   2132    323]\n",
      " [ 40868    174     72     43   8739]]\n"
     ]
    },
    {
     "data": {
      "image/png": "[encoded data removed]",
      "text/plain": [
       "<Figure size 432x288 with 2 Axes>"
      ]
     },
     "metadata": {
      "needs_background": "light"
     },
     "output_type": "display_data"
    }
   ],
   "source": [
    "cnf_matrix = confusion_matrix(y_test, y_pred, labels=[0, 15, 30, 45, 60])\n",
    "np.set_printoptions(precision=2)\n",
    "\n",
    "# Plot non-normalized confusion matrix\n",
    "plt.figure()\n",
    "plot_confusion_matrix(cnf_matrix, classes=[0, 15, 30, 45, 60],\n",
    "                      title='Confusion matrix (Departure)')"
   ]
  },
  {
   "cell_type": "markdown",
   "metadata": {},
   "source": [
    "## XGBoost\n",
    "https://www.datacamp.com/community/tutorials/xgboost-in-python"
   ]
  },
  {
   "cell_type": "markdown",
   "metadata": {},
   "source": [
    "#### 2. Classification - dep"
   ]
  },
  {
   "cell_type": "code",
   "execution_count": 20,
   "metadata": {},
   "outputs": [],
   "source": [
    "import xgboost as xgb\n",
    "from sklearn.metrics import mean_squared_error\n",
    "import pandas as pd\n",
    "import numpy as np"
   ]
  },
  {
   "cell_type": "code",
   "execution_count": 21,
   "metadata": {},
   "outputs": [],
   "source": [
    "data_dmatrix = xgb.DMatrix(data=X_train,label=y_train)"
   ]
  },
  {
   "cell_type": "code",
   "execution_count": 22,
   "metadata": {},
   "outputs": [
    {
     "name": "stderr",
     "output_type": "stream",
     "text": [
      "/Users/tracyliu/opt/anaconda3/lib/python3.8/site-packages/xgboost/sklearn.py:888: UserWarning: The use of label encoder in XGBClassifier is deprecated and will be removed in a future release. To remove this warning, do the following: 1) Pass option use_label_encoder=False when constructing XGBClassifier object; and 2) Encode your labels (y) as integers starting with 0, i.e. 0, 1, 2, ..., [num_class - 1].\n",
      "  warnings.warn(label_encoder_deprecation_msg, UserWarning)\n"
     ]
    },
    {
     "name": "stdout",
     "output_type": "stream",
     "text": [
      "[21:22:21] WARNING: /opt/concourse/worker/volumes/live/7a2b9f41-3287-451b-6691-43e9a6c0910f/volume/xgboost-split_1619728204606/work/src/learner.cc:1061: Starting in XGBoost 1.3.0, the default evaluation metric used with the objective 'multi:softprob' was changed from 'merror' to 'mlogloss'. Explicitly set eval_metric if you'd like to restore the old behavior.\n",
      "Accuracy for our testing dataset with tuning is : 79.60%\n"
     ]
    }
   ],
   "source": [
    "xg_clf = xgb.XGBClassifier(colsample_bytree = 0.3, learning_rate = 0.1,\n",
    "                max_depth = 5, alpha = 10, n_estimators = 50)\n",
    "xg_clf.fit(X_train,y_train)\n",
    "y_pred = xg_clf.predict(X_test)\n",
    "test_accuracy = accuracy_score(y_test,y_pred)*100\n",
    "print(\"Accuracy for our testing dataset with tuning is : {:.2f}%\".format(test_accuracy) )"
   ]
  },
  {
   "cell_type": "code",
   "execution_count": 23,
   "metadata": {},
   "outputs": [
    {
     "name": "stdout",
     "output_type": "stream",
     "text": [
      "Confusion matrix, without normalization\n",
      "[[529254      0      0      0     53]\n",
      " [ 45037      0      0      0      9]\n",
      " [ 24735      0      0      0      6]\n",
      " [ 16027      0      0      0      8]\n",
      " [ 49820      0      0      0     76]]\n"
     ]
    },
    {
     "data": {
      "image/png": "[encoded data removed]",
      "text/plain": [
       "<Figure size 432x288 with 2 Axes>"
      ]
     },
     "metadata": {
      "needs_background": "light"
     },
     "output_type": "display_data"
    }
   ],
   "source": [
    "cnf_matrix = confusion_matrix(y_test, y_pred, labels=[0, 15, 30, 45, 60])\n",
    "np.set_printoptions(precision=2)\n",
    "\n",
    "# Plot non-normalized confusion matrix\n",
    "plt.figure()\n",
    "plot_confusion_matrix(cnf_matrix, classes=[0, 15, 30, 45, 60],\n",
    "                      title='Confusion matrix (Departure)')"
   ]
  },
  {
   "cell_type": "code",
   "execution_count": null,
   "metadata": {},
   "outputs": [],
   "source": []
  }
 ],
 "metadata": {
  "kernelspec": {
   "display_name": "Python 3",
   "language": "python",
   "name": "python3"
  },
  "language_info": {
   "codemirror_mode": {
    "name": "ipython",
    "version": 3
   },
   "file_extension": ".py",
   "mimetype": "text/x-python",
   "name": "python",
   "nbconvert_exporter": "python",
   "pygments_lexer": "ipython3",
   "version": "3.8.5"
  }
 },
 "nbformat": 4,
 "nbformat_minor": 4
}
