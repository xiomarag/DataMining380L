{
  "nbformat": 4,
  "nbformat_minor": 0,
  "metadata": {
    "interpreter": {
      "hash": "a0929711d380e35192f4cb7fc35982659e488768c1797b656fc22286d7128f20"
    },
    "kernelspec": {
      "display_name": "Python 3.8.3 64-bit ('base': conda)",
      "language": "python",
      "name": "python3"
    },
    "language_info": {
      "codemirror_mode": {
        "name": "ipython",
        "version": 3
      },
      "file_extension": ".py",
      "mimetype": "text/x-python",
      "name": "python",
      "nbconvert_exporter": "python",
      "pygments_lexer": "ipython3",
      "version": "3.8.3"
    },
    "orig_nbformat": 4,
    "colab": {
      "name": "SelectKBest_sample.ipynb",
      "provenance": []
    }
  },
  "cells": [
    {
      "cell_type": "code",
      "metadata": {
        "id": "aTpDTdi1EpR5"
      },
      "source": [
        "import pandas as pd \n",
        "import numpy as np\n",
        "from sklearn.feature_selection import SelectKBest,f_classif,chi2,f_regression"
      ],
      "execution_count": null,
      "outputs": []
    },
    {
      "cell_type": "code",
      "metadata": {
        "id": "RuLXX9NdEpR6"
      },
      "source": [
        "data = pd.read_csv(\"train_2019.csv\")"
      ],
      "execution_count": null,
      "outputs": []
    },
    {
      "cell_type": "markdown",
      "metadata": {
        "id": "qPmS1dOfEpR7"
      },
      "source": [
        "### Implementing One Hot Encoding for Selected Features"
      ]
    },
    {
      "cell_type": "code",
      "metadata": {
        "id": "53GpOGcEEpR8"
      },
      "source": [
        "data[\"AIRLINE_ID\"] = pd.get_dummies(data[\"AIRLINE_ID\"])\n",
        "data[\"DEST_AIRPORT_ID\"] = pd.get_dummies(data['DEST_AIRPORT_ID'])\n",
        "data['ORIGIN_AIRPORT_ID'] = pd.get_dummies(data['ORIGIN_AIRPORT_ID'])"
      ],
      "execution_count": null,
      "outputs": []
    },
    {
      "cell_type": "markdown",
      "metadata": {
        "id": "Rlzps751EpR8"
      },
      "source": [
        "### Handling Missing Values"
      ]
    },
    {
      "cell_type": "code",
      "metadata": {
        "id": "nMXCEuwREpR9"
      },
      "source": [
        "data = data.fillna(0)"
      ],
      "execution_count": null,
      "outputs": []
    },
    {
      "cell_type": "markdown",
      "metadata": {
        "id": "dQ8DARl2EpR9"
      },
      "source": [
        "### Time Covertion"
      ]
    },
    {
      "cell_type": "code",
      "metadata": {
        "id": "ZeML1mmREpR-"
      },
      "source": [
        "def convert_time(time):\n",
        "    hour = np.floor(time/100)\n",
        "    minutes = hour*60 + time - hour*100\n",
        "    return minutes"
      ],
      "execution_count": null,
      "outputs": []
    },
    {
      "cell_type": "code",
      "metadata": {
        "id": "Yn45tJziEpR-"
      },
      "source": [
        "arr_time = data[\"CRS_ARR_TIME\"].to_numpy().reshape(-1, 1)\n",
        "dep_time = data[\"CRS_DEP_TIME\"].to_numpy().reshape(-1, 1)\n",
        "arr_time_min = convert_time(arr_time)\n",
        "dep_time_min = convert_time(dep_time)\n",
        "time_min_data = pd.DataFrame(np.hstack([arr_time_min, dep_time_min]), columns=['CRS_ARR_TIME_MIN', 'CRS_DEP_TIME_MIN'])\n",
        "\n",
        "data = data.drop([\"CRS_ARR_TIME\", \"CRS_DEP_TIME\"], axis=1)\n",
        "data = data.join(time_min_data)"
      ],
      "execution_count": null,
      "outputs": []
    },
    {
      "cell_type": "code",
      "metadata": {
        "id": "O4QirqqbEpR_",
        "outputId": "efede254-160f-4bfa-8141-8b5097188900"
      },
      "source": [
        "data.shape"
      ],
      "execution_count": null,
      "outputs": [
        {
          "data": {
            "text/plain": [
              "(2216748, 37)"
            ]
          },
          "execution_count": 8,
          "metadata": {},
          "output_type": "execute_result"
        }
      ]
    },
    {
      "cell_type": "markdown",
      "metadata": {
        "id": "K5HfyqmxEpSA"
      },
      "source": [
        "### Extract Target Value from Dataset"
      ]
    },
    {
      "cell_type": "code",
      "metadata": {
        "id": "hQg4idRsEpSA"
      },
      "source": [
        "target = data[[\"CANCELLED\", \"DEP_DELAY_NEW\", \"ARR_DELAY_NEW\"]]\n",
        "y = target[\"ARR_DELAY_NEW\"].to_numpy() >0 \n",
        "y = y + [0]*y.shape[0]"
      ],
      "execution_count": null,
      "outputs": []
    },
    {
      "cell_type": "code",
      "metadata": {
        "id": "7rvLmMmYEpSB",
        "outputId": "c95cf948-3d46-4c74-a667-57f849e78d0b"
      },
      "source": [
        "X = data.drop(columns=[\"ARR_TIME\",\"ARR_DELAY_NEW\",\"CARRIER_DELAY\",\"WEATHER_DELAY\",\"NAS_DELAY\",\"SECURITY_DELAY\",'LATE_AIRCRAFT_DELAY',\"DEP_DELAY_NEW\",\"DEP_TIME\",\"CRS_DEP_TIME_MIN\",\"LONGITUDE\"])\n",
        "X = X._get_numeric_data()\n",
        "X.columns"
      ],
      "execution_count": null,
      "outputs": [
        {
          "data": {
            "text/plain": [
              "Index(['AIRLINE_ID', 'ORIGIN_AIRPORT_ID', 'LATITUDE', 'MONTH', 'DAY_OF_MONTH',\n",
              "       'AIRPORT_FLIGHTS_MONTH', 'SEGMENT_NUMBER', 'MANUFACTURE_YEAR',\n",
              "       'PLANE_AGE', 'AWND', 'PRCP', 'SNOW', 'TMAX', 'TAVG', 'DEST_AIRPORT_ID',\n",
              "       'CANCELLED', 'DISTANCE', 'CRS_ARR_TIME_MIN'],\n",
              "      dtype='object')"
            ]
          },
          "execution_count": 10,
          "metadata": {},
          "output_type": "execute_result"
        }
      ]
    },
    {
      "cell_type": "markdown",
      "metadata": {
        "id": "h8q8zx8aEpSB"
      },
      "source": [
        "### Feature Selection - SelectKBest (for classification )"
      ]
    },
    {
      "cell_type": "code",
      "metadata": {
        "id": "yX5PIMl-EpSB"
      },
      "source": [
        "from numpy import array\n",
        "def select_K_Best(X,y,method,num_features):\n",
        "    if method == \"clf\":\n",
        "        select = SelectKBest(f_classif,k=num_features)\n",
        "        z = select.fit_transform(X,y)\n",
        "        filter = select.get_support(1)\n",
        "        X_new = X[X.columns[filter]]\n",
        "        selected_fs = X_new.columns\n",
        "        return selected_fs,z\n",
        "    else:\n",
        "        select = SelectKBest(f_regression,k=num_features)\n",
        "        z = select.fit_transform(X,y)\n",
        "        filter = select.get_support(1)\n",
        "        X_new = X[X.columns[filter]]\n",
        "        selected_fs = X_new.columns\n",
        "        return selected_fs,z\n"
      ],
      "execution_count": null,
      "outputs": []
    },
    {
      "cell_type": "code",
      "metadata": {
        "id": "CBhItsvuEpSC",
        "outputId": "24fb756b-cbd6-431c-9638-8bbd0d0a3bd8"
      },
      "source": [
        "FEATURE_NUM = 10\n",
        "features_clf,z_clf = select_K_Best(X,y,\"clf\",FEATURE_NUM)\n",
        "features_reg,z_reg = select_K_Best(X,y,\"reg\",FEATURE_NUM)"
      ],
      "execution_count": null,
      "outputs": [
        {
          "name": "stderr",
          "output_type": "stream",
          "text": [
            "/Users/simon/opt/anaconda3/lib/python3.8/site-packages/sklearn/feature_selection/_univariate_selection.py:114: UserWarning: Features [15] are constant.\n",
            "  warnings.warn(\"Features %s are constant.\" % constant_features_idx,\n",
            "/Users/simon/opt/anaconda3/lib/python3.8/site-packages/sklearn/feature_selection/_univariate_selection.py:116: RuntimeWarning: invalid value encountered in true_divide\n",
            "  f = msb / msw\n",
            "/Users/simon/opt/anaconda3/lib/python3.8/site-packages/sklearn/feature_selection/_univariate_selection.py:301: RuntimeWarning: invalid value encountered in true_divide\n",
            "  corr /= X_norms\n",
            "/Users/simon/opt/anaconda3/lib/python3.8/site-packages/scipy/stats/_distn_infrastructure.py:1932: RuntimeWarning: invalid value encountered in less_equal\n",
            "  cond2 = cond0 & (x <= _a)\n"
          ]
        }
      ]
    },
    {
      "cell_type": "code",
      "metadata": {
        "id": "JqwFTLxHEpSC",
        "outputId": "be14647c-475f-49d4-9ddb-169f3d4b2fb3"
      },
      "source": [
        "print(\"Selected Top\",FEATURE_NUM,\" Features for Classification :\",list(features_clf))"
      ],
      "execution_count": null,
      "outputs": [
        {
          "name": "stdout",
          "output_type": "stream",
          "text": [
            "Selected Top 10  Features for Classification : ['ORIGIN_AIRPORT_ID', 'MONTH', 'AIRPORT_FLIGHTS_MONTH', 'SEGMENT_NUMBER', 'AWND', 'PRCP', 'SNOW', 'TAVG', 'DEST_AIRPORT_ID', 'CRS_ARR_TIME_MIN']\n"
          ]
        }
      ]
    },
    {
      "cell_type": "markdown",
      "metadata": {
        "id": "5GAgtQ0ZEpSC"
      },
      "source": [
        ""
      ]
    },
    {
      "cell_type": "code",
      "metadata": {
        "id": "DhzPRUNIEpSD",
        "outputId": "07e857b2-d0ff-404c-a604-0ccaff230fd1"
      },
      "source": [
        "print(\"Selected Top\",FEATURE_NUM,\" Features for Regression :\",list(features_reg))"
      ],
      "execution_count": null,
      "outputs": [
        {
          "name": "stdout",
          "output_type": "stream",
          "text": [
            "Selected Top 10  Features for Regression : ['ORIGIN_AIRPORT_ID', 'MONTH', 'AIRPORT_FLIGHTS_MONTH', 'SEGMENT_NUMBER', 'AWND', 'PRCP', 'SNOW', 'TAVG', 'DEST_AIRPORT_ID', 'CRS_ARR_TIME_MIN']\n"
          ]
        }
      ]
    },
    {
      "cell_type": "code",
      "metadata": {
        "id": "RjtKxTiDEpSE"
      },
      "source": [
        ""
      ],
      "execution_count": null,
      "outputs": []
    }
  ]
}