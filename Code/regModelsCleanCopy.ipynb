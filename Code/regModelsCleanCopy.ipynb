{
 "cells": [
  {
   "cell_type": "code",
   "execution_count": 1,
   "metadata": {
    "id": "fEbYWR4sxkiC"
   },
   "outputs": [],
   "source": [
    "from sklearn.model_selection import train_test_split, StratifiedShuffleSplit, GridSearchCV\n",
    "from sklearn.metrics import accuracy_score, f1_score, r2_score,mean_squared_error, mean_absolute_error\n",
    "from sklearn.svm import SVC\n",
    "from sklearn.linear_model import LinearRegression, Ridge, RidgeCV, LassoCV, ElasticNetCV\n",
    "from sklearn.preprocessing import PolynomialFeatures, scale\n",
    "from sklearn.feature_selection import SelectKBest,f_classif,chi2,f_regression\n",
    "from sklearn import preprocessing\n",
    "\n",
    "import pandas as pd \n",
    "import os\n",
    "import glob\n",
    "import datetime, warnings, scipy \n",
    "import numpy as np\n",
    "import seaborn as sns\n",
    "import matplotlib.pyplot as plt\n",
    "%matplotlib inline"
   ]
  },
  {
   "cell_type": "code",
   "execution_count": 2,
   "metadata": {
    "id": "rsCQxnjCxuRE"
   },
   "outputs": [],
   "source": [
    "class DataPreprocess:\n",
    "    def __init__(self, filename):\n",
    "        self.filename = filename\n",
    "        \n",
    "    def read_in_data(self):\n",
    "        return pd.read_csv(self.filename)\n",
    "\n",
    "    def select_feature_manually(self):\n",
    "        self.df = self.read_in_data()\n",
    "        self.df_feature = self.df[[\"AIRLINE_ID\", \"ORIGIN_AIRPORT_ID\", \"DEST_AIRPORT_ID\",\"LATITUDE\", \"LONGITUDE\", \"MONTH\",\"DAY_OF_MONTH\", \"PLANE_AGE\", \"AWND\", \"PRCP\", \"SNOW\", \"TMAX\", \"TAVG\",\n",
    "             \"CRS_DEP_TIME\", \"CRS_ARR_TIME\", \"DISTANCE\"]]\n",
    "\n",
    "    def convert_time(self, time):\n",
    "        hour = np.floor(time/100)\n",
    "        minutes = hour*60 + time - hour*100\n",
    "        return minutes\n",
    "\n",
    "    def make_dataset(self, airline):\n",
    "\n",
    "        # airline_oh = pd.get_dummies(self.df_feature['AIRLINE_ID'])\n",
    "        # name = 'AIRLINE_ID'\n",
    "        # airline_oh_columns = []\n",
    "        # for i in range(airline_oh.shape[1]):\n",
    "        #     airline_oh_columns.append(name+\" \"+str(i))    \n",
    "        # airline = pd.DataFrame(airline_oh.to_numpy(),columns=airline_oh_columns)\n",
    "        # self.df_feature = self.df_feature.join(airline)\n",
    "\n",
    "        arr_airport_oh = pd.get_dummies(self.df_feature['DEST_AIRPORT_ID'])\n",
    "        name = 'DEST_AIRPORT_ID'\n",
    "        arr_airport_oh_columns = []\n",
    "        for i in range(arr_airport_oh.shape[1]):\n",
    "            arr_airport_oh_columns.append(name+\" \"+str(i))\n",
    "            \n",
    "        arr_airport = pd.DataFrame(arr_airport_oh.to_numpy(),columns=arr_airport_oh_columns)\n",
    "        self.df_feature = self.df_feature.join(arr_airport)\n",
    "            \n",
    "        dep_airport_oh = pd.get_dummies(self.df_feature['ORIGIN_AIRPORT_ID'])\n",
    "        name = 'ORIGIN_AIRPORT_ID'\n",
    "        dep_airport_oh_columns = []\n",
    "        for i in range(dep_airport_oh.shape[1]):\n",
    "            dep_airport_oh_columns.append(name+\" \"+str(i))\n",
    "            \n",
    "        dep_airport = pd.DataFrame(dep_airport_oh.to_numpy(),columns=dep_airport_oh_columns)\n",
    "        self.df_feature = self.df_feature.join(dep_airport)\n",
    "\n",
    "#         airline_oh = airline_oh_df.to_numpy()\n",
    "#         arr_airport_oh = arr_airport_oh_df.to_numpy()\n",
    "#         dep_airport_oh = dep_airport_oh_df.to_numpy()\n",
    "\n",
    "        # self.df_feature = self.df_feature.drop(['AIRLINE_ID', 'DEST_AIRPORT_ID', 'ORIGIN_AIRPORT_ID'], axis=1)\n",
    "        self.df_feature = self.df_feature.drop(['DEST_AIRPORT_ID', 'ORIGIN_AIRPORT_ID'], axis=1)\n",
    "\n",
    "        self.df_feature = self.df_feature.fillna(0)\n",
    "\n",
    "        arr_time = self.df_feature[\"CRS_ARR_TIME\"].to_numpy().reshape(-1, 1)\n",
    "        dep_time = self.df_feature[\"CRS_DEP_TIME\"].to_numpy().reshape(-1, 1)\n",
    "        arr_time_min = self.convert_time(arr_time)\n",
    "        dep_time_min = self.convert_time(dep_time)\n",
    "        time_min_df = pd.DataFrame(np.hstack([arr_time_min, dep_time_min]), columns=['CRS_ARR_TIME_MIN', 'CRS_DEP_TIME_MIN'])\n",
    "\n",
    "        self.df_feature = self.df_feature.drop([\"CRS_ARR_TIME\", \"CRS_DEP_TIME\"], axis=1)\n",
    "        self.df_feature = self.df_feature.join(time_min_df)\n",
    "\n",
    "        features_without_id = self.df_feature.to_numpy()\n",
    "        self.features = features_without_id # array\n",
    "        self.df_truth = self.df[[\"CANCELLED\", \"DEP_DELAY_NEW\", \"ARR_DELAY_NEW\"]]\n",
    "    \n",
    "    \n",
    "    def generate(self, airline):\n",
    "\n",
    "        self.select_feature_manually()\n",
    "        self.make_dataset(airline)\n",
    "    \n",
    "\n",
    "        y = np.zeros((self.df_truth.shape[0],2))\n",
    "\n",
    "        for i in range(6):\n",
    "            if i==0:\n",
    "                y[self.df_truth[\"DEP_DELAY_NEW\"]==0, 0] = 0\n",
    "                y[self.df_truth[\"ARR_DELAY_NEW\"]==0, 1] = 0\n",
    "            elif i==5:\n",
    "                ub = (i-1)*15\n",
    "                y[self.df_truth[\"DEP_DELAY_NEW\"]>ub, 0] = ub\n",
    "                y[self.df_truth[\"ARR_DELAY_NEW\"]>ub, 1] = ub\n",
    "            else: \n",
    "                lb = (i-1)*15\n",
    "                ub = i*15\n",
    "                y[np.logical_and(self.df_truth[\"DEP_DELAY_NEW\"]>lb, self.df_truth[\"DEP_DELAY_NEW\"]<=ub), 0] = lb\n",
    "                y[np.logical_and(self.df_truth[\"ARR_DELAY_NEW\"]>lb, self.df_truth[\"ARR_DELAY_NEW\"]<=ub), 1] = lb       \n",
    "\n",
    "        y = pd.DataFrame(y, columns=['dep','arr'])\n",
    "\n",
    "        if airline != '':\n",
    "            all_data = pd.merge(self.df_feature,self.df_truth,left_index=True,right_index=True)\n",
    "            all_data = pd.merge(all_data, y, left_index=True, right_index=True)\n",
    "            new_df = all_data[all_data['AIRLINE_ID'] == 19393]\n",
    "            # new_df = all_data[all_data['DEP_DELAY_NEW'] <= 360]\n",
    "\n",
    "            to_drop = [\"CANCELLED\", \"DEP_DELAY_NEW\", \"ARR_DELAY_NEW\",\"dep\",\"arr\"]\n",
    "            to_keep = new_df.columns.difference(to_drop)\n",
    "\n",
    "            self.df_feature = pd.DataFrame(new_df, columns=to_keep)\n",
    "            self.df_truth = new_df[[\"CANCELLED\", \"DEP_DELAY_NEW\", \"ARR_DELAY_NEW\"]]\n",
    "            y = pd.DataFrame(new_df, columns=['dep','arr'])\n",
    "        #     self.df_feature = new_df\n",
    "        \n",
    "        return self.df_feature, self.features, self.df_truth, y\n",
    "\n",
    "def select_K_Best(X,y,method,num_features):\n",
    "    if method == \"clf\":\n",
    "        select = SelectKBest(f_classif,k=num_features)\n",
    "        z = select.fit_transform(X,y)\n",
    "        filter = select.get_support(1)\n",
    "        X_new = X[X.columns[filter]]\n",
    "        selected_fs = X_new.columns\n",
    "        return selected_fs,z\n",
    "    else:\n",
    "        select = SelectKBest(f_regression,k=num_features)\n",
    "        z = select.fit_transform(X,y)\n",
    "        filter = select.get_support(1)\n",
    "        X_new = X[X.columns[filter]]\n",
    "        selected_fs = X_new.columns\n",
    "        return selected_fs,z"
   ]
  },
  {
   "cell_type": "code",
   "execution_count": 3,
   "metadata": {
    "colab": {
     "base_uri": "https://localhost:8080/"
    },
    "id": "lzEMayDCx8Lb",
    "outputId": "3b3e2b9a-ffcb-464d-d41a-ba34fac44141"
   },
   "outputs": [
    {
     "name": "stdout",
     "output_type": "stream",
     "text": [
      "2216748\n"
     ]
    }
   ],
   "source": [
    "filename = \"train_2019.csv\"\n",
    "data = DataPreprocess(filename)\n",
    "all_airlines = ''\n",
    "# all_airlines = 'Southwest Airlines Co.'\n",
    "X, _, y_truth, y = data.generate(all_airlines)\n",
    "print(len(X))\n"
   ]
  },
  {
   "cell_type": "code",
   "execution_count": 5,
   "metadata": {
    "colab": {
     "base_uri": "https://localhost:8080/"
    },
    "id": "yDSQiXbtyFHa",
    "outputId": "0978200a-843c-46b4-d925-bb099fe0cab0"
   },
   "outputs": [],
   "source": [
    "FEATURE_NUM = 74\n",
    "# FEATURE_NUM = 40\n",
    "# features_reg,z_reg = select_K_Best(X, y_truth['DEP_DELAY_NEW'],'reg', FEATURE_NUM)\n",
    "features_reg,z_reg = select_K_Best(X, y_truth['DEP_DELAY_NEW'],'reg',num_features=FEATURE_NUM)\n",
    "# features_reg,z_reg = select_K_Best(X2, y_truth2['DEP_DELAY_NEW'],'reg', FEATURE_NUM)"
   ]
  },
  {
   "cell_type": "code",
   "execution_count": 6,
   "metadata": {
    "id": "aBdNk28Bl0HU"
   },
   "outputs": [],
   "source": [
    "X_input = X[features_reg]\n",
    "# X_input = X\n",
    "\n",
    "X_train2, X_test2, y_train2, y_test2 = train_test_split(X_input, y_truth['DEP_DELAY_NEW'], test_size=0.3, random_state=3)\n",
    "\n",
    "prep_x_train2 = preprocessing.scale(X_train2)\n",
    "prep_y_train2 = preprocessing.scale(y_train2)\n",
    "prep_x_test2 = preprocessing.scale(X_test2)\n",
    "prep_y_test2 = preprocessing.scale(y_test2)"
   ]
  },
  {
   "cell_type": "code",
   "execution_count": 14,
   "metadata": {
    "colab": {
     "base_uri": "https://localhost:8080/"
    },
    "id": "iULOiXrnHAZ8",
    "outputId": "35eb85d4-1a0e-4b13-a45c-0954273f34bf"
   },
   "outputs": [
    {
     "name": "stdout",
     "output_type": "stream",
     "text": [
      "-5.354733487064133e+19\n",
      "5.354733487064131e+19\n",
      "5482685576.766741\n"
     ]
    }
   ],
   "source": [
    "mlr = LinearRegression()\n",
    "mlr.fit(prep_x_train2, prep_y_train2)\n",
    "\n",
    "pred = mlr.predict(prep_x_test2)\n",
    "\n",
    "r2 = r2_score(prep_y_test2, pred)\n",
    "mse = mean_squared_error(prep_y_test2, pred)\n",
    "mae = mean_absolute_error(prep_y_test2, pred)\n",
    "\n",
    "dist = pd.DataFrame()\n",
    "dist[\"Prediction\"] = pd.Series([float(s) for s in pred]) \n",
    "dist[\"Ground Truth\"] = pd.Series([float(s) for s in prep_y_test2])\n",
    "mlr_plot = sns.jointplot(x=\"Ground Truth\", y=\"Prediction\", data=dist,\n",
    "              joint_kws={'line_kws':{'color':'k'}}, kind='reg')\n",
    "plt.show()"
   ]
  },
  {
   "cell_type": "code",
   "execution_count": 22,
   "metadata": {
    "colab": {
     "base_uri": "https://localhost:8080/",
     "height": 293
    },
    "id": "e8k_mAMcUBEW",
    "outputId": "8ded1199-8660-4795-ad42-c832a27dabcd"
   },
   "outputs": [],
   "source": [
    "mlr_plot.figure.savefig(\"mlr_plot.png\")"
   ]
  },
  {
   "cell_type": "code",
   "execution_count": 17,
   "metadata": {
    "colab": {
     "base_uri": "https://localhost:8080/"
    },
    "id": "93v4vtD46Dp1",
    "outputId": "6f3e063a-5c62-42f2-81cc-e4d16667fe5d"
   },
   "outputs": [
    {
     "name": "stdout",
     "output_type": "stream",
     "text": [
      "range of pred : -40785117799.70468,   23275014688.54867\n",
      "range of y_test2 : 0.0,   540.0\n",
      "range of prep_y_test2 : -0.438909505998893,   15.986244467408715\n",
      "avg delay: 14.450585208269736\n",
      "min delay: 0.0\n",
      "max delay: 804.0\n"
     ]
    }
   ],
   "source": [
    "a = min(pred)\n",
    "b = max(pred)\n",
    "c = min(y_test2)\n",
    "d = max(y_test2)\n",
    "e = min(prep_y_test2)\n",
    "f = max(prep_y_test2)\n",
    "# g = min(y_train2)\n",
    "# h = max(y_train2)\n",
    "\n",
    "print(\"range of pred : {},   {}\".format(a,b))\n",
    "print(\"range of y_test2 : {},   {}\".format(c,d))\n",
    "print(\"range of prep_y_test2 : {},   {}\".format(e,f))\n",
    "\n",
    "print(\"avg delay: {}\".format(y_truth['DEP_DELAY_NEW'].mean()))\n",
    "print(\"min delay: {}\".format(y_truth['DEP_DELAY_NEW'].min()))\n",
    "print(\"max delay: {}\".format(y_truth['DEP_DELAY_NEW'].max()))"
   ]
  },
  {
   "cell_type": "code",
   "execution_count": 24,
   "metadata": {
    "colab": {
     "base_uri": "https://localhost:8080/"
    },
    "id": "wuNhKo_s66CD",
    "outputId": "867234f6-6ade-4c61-a0c0-791b5989cc89"
   },
   "outputs": [
    {
     "name": "stdout",
     "output_type": "stream",
     "text": [
      "r2 ridge:  0.035581659119470754\n",
      "mse ridge:  0.9644183408805289\n",
      "mae ridge:  0.44290589787950757\n",
      "best score:  0.03633324356098877\n",
      "range of pred : -0.6007777693208204,   2.5252487660395384\n"
     ]
    }
   ],
   "source": [
    "# a = 10**np.linspace(-6,6,100)\n",
    "a = [0.068]\n",
    "ridgecv = RidgeCV(alphas=a, scoring='r2',cv=5).fit(prep_x_train2, prep_y_train2)\n",
    "ridge_pred = ridgecv.predict(prep_x_test2)\n",
    "\n",
    "r2_ridge = r2_score(prep_y_test2, ridge_pred)\n",
    "mse_ridge = mean_squared_error(prep_y_test2, ridge_pred)\n",
    "mae_ridge = mean_absolute_error(prep_y_test2, ridge_pred)\n",
    "\n",
    "dist = pd.DataFrame()\n",
    "dist[\"Prediction\"] = pd.Series([float(s) for s in ridge_pred]) \n",
    "dist[\"Ground Truth\"] = pd.Series([float(s) for s in prep_y_test2])\n",
    "ridge_plot = sns.jointplot(x=\"Ground Truth\", y=\"Prediction\", data=dist,\n",
    "              joint_kws={'line_kws':{'color':'k'}}, kind='reg')\n",
    "plt.show()"
   ]
  },
  {
   "cell_type": "code",
   "execution_count": 27,
   "metadata": {},
   "outputs": [],
   "source": [
    "ridge_plot.figure.savefig(\"ridge_plot.png\")"
   ]
  },
  {
   "cell_type": "code",
   "execution_count": 28,
   "metadata": {
    "colab": {
     "base_uri": "https://localhost:8080/"
    },
    "id": "sxPK61GpydI7",
    "outputId": "bd7b33a6-c5f8-46f4-a445-624bd86227c3"
   },
   "outputs": [
    {
     "name": "stderr",
     "output_type": "stream",
     "text": [
      "/home/studio-lab-user/.conda/envs/default/lib/python3.9/site-packages/sklearn/linear_model/_coordinate_descent.py:633: ConvergenceWarning: Objective did not converge. You might want to increase the number of iterations. Duality gap: 1250.9612593983766, tolerance: 125.06157565770154\n",
      "  model = cd_fast.enet_coordinate_descent_gram(\n",
      "/home/studio-lab-user/.conda/envs/default/lib/python3.9/site-packages/sklearn/linear_model/_coordinate_descent.py:633: ConvergenceWarning: Objective did not converge. You might want to increase the number of iterations. Duality gap: 1139.4095938999671, tolerance: 124.31322454673088\n",
      "  model = cd_fast.enet_coordinate_descent_gram(\n",
      "/home/studio-lab-user/.conda/envs/default/lib/python3.9/site-packages/sklearn/linear_model/_coordinate_descent.py:633: ConvergenceWarning: Objective did not converge. You might want to increase the number of iterations. Duality gap: 657.9311158354394, tolerance: 123.39006585810334\n",
      "  model = cd_fast.enet_coordinate_descent_gram(\n",
      "/home/studio-lab-user/.conda/envs/default/lib/python3.9/site-packages/sklearn/linear_model/_coordinate_descent.py:633: ConvergenceWarning: Objective did not converge. You might want to increase the number of iterations. Duality gap: 1624.24655043846, tolerance: 123.57603583465907\n",
      "  model = cd_fast.enet_coordinate_descent_gram(\n",
      "/home/studio-lab-user/.conda/envs/default/lib/python3.9/site-packages/sklearn/linear_model/_coordinate_descent.py:647: ConvergenceWarning: Objective did not converge. You might want to increase the number of iterations, check the scale of the features or consider increasing regularisation. Duality gap: 2.562e+03, tolerance: 1.552e+02\n",
      "  model = cd_fast.enet_coordinate_descent(\n"
     ]
    },
    {
     "name": "stdout",
     "output_type": "stream",
     "text": [
      "r2 lasso:  0.0355807600429795\n",
      "mse lasso:  0.9644192399570202\n",
      "mae lasso:  0.4429003133326184\n",
      "range of pred : -0.5998932301276076,   2.525028450487708\n"
     ]
    }
   ],
   "source": [
    "a = 10**np.linspace(-6,6,100)\n",
    "num_lasso_a = 100\n",
    "lassocv = LassoCV(eps=(min(a)/max(a)), n_alphas=num_lasso_a, cv=5).fit(prep_x_train2, prep_y_train2)\n",
    "lasso_pred = lassocv.predict(prep_x_test2)\n",
    "\n",
    "r2_lasso = r2_score(prep_y_test2, lasso_pred)\n",
    "mse_lasso = mean_squared_error(prep_y_test2, lasso_pred)\n",
    "mae_lasso = mean_absolute_error(prep_y_test2, lasso_pred)\n",
    "\n",
    "dist = pd.DataFrame()\n",
    "dist[\"Prediction\"] = pd.Series([float(s) for s in lasso_pred]) \n",
    "dist[\"Ground Truth\"] = pd.Series([float(s) for s in prep_y_test2])\n",
    "lasso_plot = sns.jointplot(x=\"Ground Truth\", y=\"Prediction\", data=dist,\n",
    "              joint_kws={'line_kws':{'color':'k'}}, kind='reg')\n",
    "plt.show()"
   ]
  },
  {
   "cell_type": "code",
   "execution_count": 30,
   "metadata": {},
   "outputs": [],
   "source": [
    "lasso_plot.figure.savefig(\"lasso_plot.png\")"
   ]
  },
  {
   "cell_type": "code",
   "execution_count": 8,
   "metadata": {
    "colab": {
     "base_uri": "https://localhost:8080/"
    },
    "id": "KiJKhaS8yfbc",
    "outputId": "d63ff76e-3dc5-415c-a121-51a9712091ca"
   },
   "outputs": [
    {
     "name": "stderr",
     "output_type": "stream",
     "text": [
      "/home/studio-lab-user/.conda/envs/default/lib/python3.9/site-packages/sklearn/linear_model/_coordinate_descent.py:633: ConvergenceWarning: Objective did not converge. You might want to increase the number of iterations. Duality gap: 1744.4212707248516, tolerance: 125.06157565770154\n",
      "  model = cd_fast.enet_coordinate_descent_gram(\n",
      "/home/studio-lab-user/.conda/envs/default/lib/python3.9/site-packages/sklearn/linear_model/_coordinate_descent.py:633: ConvergenceWarning: Objective did not converge. You might want to increase the number of iterations. Duality gap: 838.7233320064843, tolerance: 124.31322454673088\n",
      "  model = cd_fast.enet_coordinate_descent_gram(\n",
      "/home/studio-lab-user/.conda/envs/default/lib/python3.9/site-packages/sklearn/linear_model/_coordinate_descent.py:633: ConvergenceWarning: Objective did not converge. You might want to increase the number of iterations. Duality gap: 1106.3638989571482, tolerance: 123.39006585810334\n",
      "  model = cd_fast.enet_coordinate_descent_gram(\n",
      "/home/studio-lab-user/.conda/envs/default/lib/python3.9/site-packages/sklearn/linear_model/_coordinate_descent.py:633: ConvergenceWarning: Objective did not converge. You might want to increase the number of iterations. Duality gap: 1213.2503452631645, tolerance: 123.57603583465907\n",
      "  model = cd_fast.enet_coordinate_descent_gram(\n",
      "/home/studio-lab-user/.conda/envs/default/lib/python3.9/site-packages/sklearn/linear_model/_coordinate_descent.py:647: ConvergenceWarning: Objective did not converge. You might want to increase the number of iterations, check the scale of the features or consider increasing regularisation. Duality gap: 5.985e+04, tolerance: 1.552e+02\n",
      "  model = cd_fast.enet_coordinate_descent(\n"
     ]
    },
    {
     "name": "stdout",
     "output_type": "stream",
     "text": [
      "r2 elastic:  0.03558098716591507\n",
      "mse elastic:  0.9644190128340846\n",
      "range of pred : -0.6003517033563278,   2.5257927567992646\n"
     ]
    }
   ],
   "source": [
    "a = 10**np.linspace(-6,6,100)\n",
    "elastic_num_a = 100\n",
    "elasticcv = ElasticNetCV(eps=(min(a)/max(a)), n_alphas=elastic_num_a, cv=5).fit(prep_x_train2, prep_y_train2)\n",
    "elastic_pred = elasticcv.predict(prep_x_test2)\n",
    "\n",
    "r2_elastic = r2_score(prep_y_test2, elastic_pred)\n",
    "mse_elastic = mean_squared_error(prep_y_test2, elastic_pred)\n",
    "mae_elastic = mean_absolute_error(prep_y_test2, elastic_pred)\n",
    "\n",
    "dist = pd.DataFrame()\n",
    "dist[\"Prediction\"] = pd.Series([float(s) for s in elastic_pred]) \n",
    "dist[\"Ground Truth\"] = pd.Series([float(s) for s in prep_y_test2])\n",
    "lasso_plot = sns.jointplot(x=\"Ground Truth\", y=\"Prediction\", data=dist,\n",
    "              joint_kws={'line_kws':{'color':'k'}}, kind='reg')\n",
    "plt.show()"
   ]
  },
  {
   "cell_type": "code",
   "execution_count": 46,
   "metadata": {
    "colab": {
     "base_uri": "https://localhost:8080/",
     "height": 331
    },
    "id": "E4eO7CJxBaqn",
    "outputId": "602d7349-5f5d-4fc0-9f7c-d1c1bd88c0f6"
   },
   "outputs": [
    {
     "name": "stdout",
     "output_type": "stream",
     "text": [
      "r2 dt:  0.06237345261077709\n",
      "mse dt:  0.9376265473892226\n",
      "mae dt:  0.42686057349904416\n"
     ]
    }
   ],
   "source": [
    "from sklearn.tree import DecisionTreeRegressor\n",
    "best_depth = 10\n",
    "dtr = DecisionTreeRegressor(max_depth=best_depth)\n",
    "dtr.fit(prep_x_train2, prep_y_train2)\n",
    "dt_pred = dtr.predict(prep_x_test2)\n",
    "\n",
    "r2_dt = r2_score(prep_y_test2, dt_pred)\n",
    "mse_dt = mean_squared_error(prep_y_test2, dt_pred)\n",
    "mae_st = mean_absolute_error(prep_y_test2, dt_pred)\n",
    "\n",
    "dist = pd.DataFrame()\n",
    "dist[\"Prediction\"] = pd.Series([float(s) for s in dt_pred]) \n",
    "dist[\"Ground Truth\"] = pd.Series([float(s) for s in prep_y_test2])\n",
    "dt_plot = sns.jointplot(x=\"Ground Truth\", y=\"Prediction\", data=dist,\n",
    "              joint_kws={'line_kws':{'color':'k'}}, kind='reg')\n",
    "plt.show()"
   ]
  },
  {
   "cell_type": "code",
   "execution_count": 48,
   "metadata": {},
   "outputs": [],
   "source": [
    "dt_plot.figure.savefig(\"dt_plot.png\")"
   ]
  },
  {
   "cell_type": "code",
   "execution_count": 9,
   "metadata": {},
   "outputs": [
    {
     "name": "stdout",
     "output_type": "stream",
     "text": [
      "ada r2:  -43.35029092846982\n",
      "mse ada:  107896.58813157002\n",
      "mae ada:  302.4821665626039\n"
     ]
    }
   ],
   "source": [
    "from sklearn.ensemble import AdaBoostRegressor\n",
    "from sklearn.tree import DecisionTreeRegressor\n",
    "num_est = 100\n",
    "lr = 1\n",
    "best_dt = DecisionTreeRegressor(max_depth=best_depth)\n",
    "abr = AdaBoostRegressor(base_estimator= best_dt, n_estimators=num_est,learning_rate=lr)\n",
    "model = abr.fit(X_train2, y_train2)\n",
    "ada_pred = model.predict(X_test2)\n",
    "\n",
    "r2_ada = r2_score(y_test2, ada_pred)\n",
    "mse_ada = mean_squared_error(y_test2, ada_pred)\n",
    "mae_ada = mean_absolute_error(y_test2, ada_pred)\n",
    "\n",
    "dist = pd.DataFrame()\n",
    "dist[\"Prediction\"] = pd.Series([float(s) for s in ada_pred]) \n",
    "dist[\"Ground Truth\"] = pd.Series([float(s) for s in y_test2])\n",
    "ada_plot = sns.jointplot(x=\"Ground Truth\", y=\"Prediction\", data=dist,\n",
    "              joint_kws={'line_kws':{'color':'k'}}, kind='reg')\n",
    "plt.show()"
   ]
  },
  {
   "cell_type": "code",
   "execution_count": 52,
   "metadata": {},
   "outputs": [],
   "source": [
    "ada_plot.figure.savefig(\"ada_plot.png\")"
   ]
  },
  {
   "cell_type": "code",
   "execution_count": null,
   "metadata": {
    "id": "5EOB0bNNEKiJ"
   },
   "outputs": [],
   "source": []
  }
 ],
 "metadata": {
  "colab": {
   "collapsed_sections": [],
   "name": "Copy of new_mlr.ipynb",
   "provenance": []
  },
  "kernelspec": {
   "display_name": "default:Python",
   "language": "python",
   "name": "conda-env-default-py"
  },
  "language_info": {
   "codemirror_mode": {
    "name": "ipython",
    "version": 3
   },
   "file_extension": ".py",
   "mimetype": "text/x-python",
   "name": "python",
   "nbconvert_exporter": "python",
   "pygments_lexer": "ipython3",
   "version": "3.9.7"
  }
 },
 "nbformat": 4,
 "nbformat_minor": 4
}
